{
 "cells": [
  {
   "cell_type": "code",
   "execution_count": null,
   "metadata": {},
   "outputs": [],
   "source": [
    "from selenium import webdriver\n",
    "import time\n",
    "from selenium.webdriver.common.keys import Keys\n",
    "# Opening browser\n",
    "browser = webdriver.Chrome()\n",
    "# 此处换成自己选课页面的链接 每一轮选课 每一学期都似乎不同\n",
    "browser.get(\n",
    "    'http://eams.sufe.edu.cn/eams/stdElectCourse!defaultPage.action?electionProfile.id=5386')\n",
    "# 需要手动完成登录"
   ]
  },
  {
   "cell_type": "code",
   "execution_count": null,
   "metadata": {},
   "outputs": [],
   "source": [
    "fin = '开始捡漏'\n",
    "while \"成\" not in list(fin):\n",
    "    # Searching\n",
    "    textbox = browser.find_element_by_xpath(\n",
    "        '//*[@id=\"electableLessonList\"]/thead/tr[1]/th[2]/div/input')\n",
    "    textbox.clear()\n",
    "    # 此处\"0028\"换成需要蹲的课程序号\n",
    "    textbox.send_keys('0028')\n",
    "    # textbox.submit()\n",
    "    textbox.send_keys(Keys.ENTER)\n",
    "    try:\n",
    "        # Submitting\n",
    "        button = browser.find_element_by_xpath(\n",
    "            '/html/body/div[10]/div[2]/form/div/table/tbody/tr/td[11]/a')\n",
    "        button.send_keys(Keys.ENTER)\n",
    "        # Results\n",
    "        result = browser.find_element_by_xpath(\n",
    "            '//*[@id=\"cboxLoadedContent\"]/table/tbody/tr[1]/td/div')\n",
    "        fin = result.text\n",
    "        if \"功\" in list(result.text):\n",
    "            # end\n",
    "            button = browser.find_element_by_xpath('//*[@id=\"cboxClose\"]')\n",
    "            button.click()\n",
    "            break\n",
    "        # end\n",
    "        button = browser.find_element_by_xpath('//*[@id=\"cboxClose\"]')\n",
    "        button.click()\n",
    "    except:\n",
    "        fin = fin\n",
    "    time.sleep(1)\n",
    "print(fin)"
   ]
  }
 ],
 "metadata": {
  "kernelspec": {
   "display_name": "Python 3",
   "language": "python",
   "name": "python3"
  },
  "language_info": {
   "codemirror_mode": {
    "name": "ipython",
    "version": 3
   },
   "file_extension": ".py",
   "mimetype": "text/x-python",
   "name": "python",
   "nbconvert_exporter": "python",
   "pygments_lexer": "ipython3",
   "version": "3.7.4"
  },
  "varInspector": {
   "cols": {
    "lenName": 16,
    "lenType": 16,
    "lenVar": 40
   },
   "kernels_config": {
    "python": {
     "delete_cmd_postfix": "",
     "delete_cmd_prefix": "del ",
     "library": "var_list.py",
     "varRefreshCmd": "print(var_dic_list())"
    },
    "r": {
     "delete_cmd_postfix": ") ",
     "delete_cmd_prefix": "rm(",
     "library": "var_list.r",
     "varRefreshCmd": "cat(var_dic_list()) "
    }
   },
   "types_to_exclude": [
    "module",
    "function",
    "builtin_function_or_method",
    "instance",
    "_Feature"
   ],
   "window_display": false
  }
 },
 "nbformat": 4,
 "nbformat_minor": 2
}