{
 "cells": [
  {
   "cell_type": "code",
   "execution_count": 1,
   "metadata": {},
   "outputs": [],
   "source": [
    "from selenium import webdriver\n",
    "import time\n",
    "import sys\n",
    "from selenium.webdriver.common.keys import Keys\n",
    "#Openning browser\n",
    "browser = webdriver.Chrome()\n",
    "# 不同年级选课网址不同 请注意调整\n",
    "browser.get('http://eams.sufe.edu.cn/eams/stdElectCourse!defaultPage.action?electionProfile.id=5385')"
   ]
  },
  {
   "cell_type": "code",
   "execution_count": null,
   "metadata": {},
   "outputs": [],
   "source": [
    "final = '开始捡漏'\n",
    "course_id = input('请完成登录, 并输入课程序号:')\n",
    "wait_time = int(input('请设置每次查询间隔时间___s'))\n",
    "\n",
    "while \"成\" not in list(final):\n",
    "    xuanke = browser.find_element_by_xpath('/html/body/div[10]/div[1]/div[2]')\n",
    "    xuanke.click()\n",
    "    #Searching\n",
    "    textbox = browser.find_element_by_xpath(\n",
    "        '//*[@id=\"electableLessonList\"]/thead/tr[1]/th[2]/div/input')\n",
    "    textbox.clear()\n",
    "    # 输入目标课程序号\n",
    "    textbox.send_keys(course_id)\n",
    "    #textbox.submit()\n",
    "    textbox.send_keys(Keys.ENTER)\n",
    "    try:\n",
    "        #Submitting\n",
    "        button = browser.find_element_by_xpath(\n",
    "            '/html/body/div[10]/div[3]/form/div/table/tbody/tr/td[11]/a')\n",
    "        button.send_keys(Keys.ENTER)\n",
    "        #Results\n",
    "        result = browser.find_element_by_xpath(\n",
    "            '//*[@id=\"cboxLoadedContent\"]/table/tbody/tr[1]/td/div')\n",
    "        final = result.text\n",
    "        if \"功\" in list(final):\n",
    "            #end\n",
    "            button = browser.find_element_by_xpath('//*[@id=\"cboxClose\"]')\n",
    "            button.click()\n",
    "            sys.exit(0)\n",
    "        #end\n",
    "        button = browser.find_element_by_xpath('//*[@id=\"cboxClose\"]')\n",
    "        button.click()\n",
    "    except:\n",
    "        final = final\n",
    "    time.sleep(1)\n",
    "print(final)"
   ]
  }
 ],
 "metadata": {
  "kernelspec": {
   "display_name": "Python 3",
   "language": "python",
   "name": "python3"
  },
  "language_info": {
   "codemirror_mode": {
    "name": "ipython",
    "version": 3
   },
   "file_extension": ".py",
   "mimetype": "text/x-python",
   "name": "python",
   "nbconvert_exporter": "python",
   "pygments_lexer": "ipython3",
   "version": "3.7.4"
  },
  "toc": {
   "base_numbering": 1,
   "nav_menu": {},
   "number_sections": true,
   "sideBar": false,
   "skip_h1_title": false,
   "title_cell": "Table of Contents",
   "title_sidebar": "Contents",
   "toc_cell": false,
   "toc_position": {},
   "toc_section_display": true,
   "toc_window_display": true
  },
  "varInspector": {
   "cols": {
    "lenName": 16,
    "lenType": 16,
    "lenVar": 40
   },
   "kernels_config": {
    "python": {
     "delete_cmd_postfix": "",
     "delete_cmd_prefix": "del ",
     "library": "var_list.py",
     "varRefreshCmd": "print(var_dic_list())"
    },
    "r": {
     "delete_cmd_postfix": ") ",
     "delete_cmd_prefix": "rm(",
     "library": "var_list.r",
     "varRefreshCmd": "cat(var_dic_list()) "
    }
   },
   "types_to_exclude": [
    "module",
    "function",
    "builtin_function_or_method",
    "instance",
    "_Feature"
   ],
   "window_display": false
  }
 },
 "nbformat": 4,
 "nbformat_minor": 2
}
